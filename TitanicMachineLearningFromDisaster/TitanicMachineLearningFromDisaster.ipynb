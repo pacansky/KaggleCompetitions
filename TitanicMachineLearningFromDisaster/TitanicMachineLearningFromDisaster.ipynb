{
 "cells": [
  {
   "cell_type": "markdown",
   "id": "6dc6ce6f",
   "metadata": {},
   "source": [
    "# Titanic Machine Learning from disaster Kaggle competition"
   ]
  },
  {
   "cell_type": "markdown",
   "id": "af1399a1",
   "metadata": {},
   "source": [
    "---"
   ]
  },
  {
   "cell_type": "markdown",
   "id": "4a1312ce",
   "metadata": {},
   "source": [
    "## Setup"
   ]
  },
  {
   "cell_type": "code",
   "execution_count": 37,
   "id": "b707717b",
   "metadata": {},
   "outputs": [],
   "source": [
    "library(data.table)\n",
    "library(ggplot2)\n",
    "library(RColorBrewer)\n",
    "\n",
    "rm(list = ls())"
   ]
  },
  {
   "cell_type": "code",
   "execution_count": 38,
   "id": "59876138",
   "metadata": {},
   "outputs": [],
   "source": [
    "TrainSet <- fread(\"train.csv\")"
   ]
  },
  {
   "cell_type": "markdown",
   "id": "34231e91",
   "metadata": {},
   "source": [
    "---"
   ]
  },
  {
   "cell_type": "markdown",
   "id": "e511f7b9",
   "metadata": {},
   "source": [
    "## EDA"
   ]
  },
  {
   "cell_type": "markdown",
   "id": "f88be9ce",
   "metadata": {},
   "source": [
    "### Structure"
   ]
  },
  {
   "cell_type": "markdown",
   "id": "c7ca536b",
   "metadata": {},
   "source": [
    "First of all, we want to inspect the names of the variables as well as the number of unique values:"
   ]
  },
  {
   "cell_type": "code",
   "execution_count": 39,
   "id": "804bf673",
   "metadata": {},
   "outputs": [
    {
     "data": {
      "text/html": [
       "<table class=\"dataframe\">\n",
       "<caption>A data.table: 1 × 12</caption>\n",
       "<thead>\n",
       "\t<tr><th scope=col>PassengerId</th><th scope=col>Survived</th><th scope=col>Pclass</th><th scope=col>Name</th><th scope=col>Sex</th><th scope=col>Age</th><th scope=col>SibSp</th><th scope=col>Parch</th><th scope=col>Ticket</th><th scope=col>Fare</th><th scope=col>Cabin</th><th scope=col>Embarked</th></tr>\n",
       "\t<tr><th scope=col>&lt;int&gt;</th><th scope=col>&lt;int&gt;</th><th scope=col>&lt;int&gt;</th><th scope=col>&lt;int&gt;</th><th scope=col>&lt;int&gt;</th><th scope=col>&lt;int&gt;</th><th scope=col>&lt;int&gt;</th><th scope=col>&lt;int&gt;</th><th scope=col>&lt;int&gt;</th><th scope=col>&lt;int&gt;</th><th scope=col>&lt;int&gt;</th><th scope=col>&lt;int&gt;</th></tr>\n",
       "</thead>\n",
       "<tbody>\n",
       "\t<tr><td>891</td><td>2</td><td>3</td><td>891</td><td>2</td><td>89</td><td>7</td><td>7</td><td>681</td><td>248</td><td>148</td><td>4</td></tr>\n",
       "</tbody>\n",
       "</table>\n"
      ],
      "text/latex": [
       "A data.table: 1 × 12\n",
       "\\begin{tabular}{llllllllllll}\n",
       " PassengerId & Survived & Pclass & Name & Sex & Age & SibSp & Parch & Ticket & Fare & Cabin & Embarked\\\\\n",
       " <int> & <int> & <int> & <int> & <int> & <int> & <int> & <int> & <int> & <int> & <int> & <int>\\\\\n",
       "\\hline\n",
       "\t 891 & 2 & 3 & 891 & 2 & 89 & 7 & 7 & 681 & 248 & 148 & 4\\\\\n",
       "\\end{tabular}\n"
      ],
      "text/markdown": [
       "\n",
       "A data.table: 1 × 12\n",
       "\n",
       "| PassengerId &lt;int&gt; | Survived &lt;int&gt; | Pclass &lt;int&gt; | Name &lt;int&gt; | Sex &lt;int&gt; | Age &lt;int&gt; | SibSp &lt;int&gt; | Parch &lt;int&gt; | Ticket &lt;int&gt; | Fare &lt;int&gt; | Cabin &lt;int&gt; | Embarked &lt;int&gt; |\n",
       "|---|---|---|---|---|---|---|---|---|---|---|---|\n",
       "| 891 | 2 | 3 | 891 | 2 | 89 | 7 | 7 | 681 | 248 | 148 | 4 |\n",
       "\n"
      ],
      "text/plain": [
       "  PassengerId Survived Pclass Name Sex Age SibSp Parch Ticket Fare Cabin\n",
       "1 891         2        3      891  2   89  7     7     681    248  148  \n",
       "  Embarked\n",
       "1 4       "
      ]
     },
     "metadata": {},
     "output_type": "display_data"
    },
    {
     "data": {
      "text/html": [
       "891"
      ],
      "text/latex": [
       "891"
      ],
      "text/markdown": [
       "891"
      ],
      "text/plain": [
       "[1] 891"
      ]
     },
     "metadata": {},
     "output_type": "display_data"
    }
   ],
   "source": [
    "TrainSet[, lapply(.SD, uniqueN)]\n",
    "nrow(TrainSet)"
   ]
  },
  {
   "cell_type": "markdown",
   "id": "8a274272",
   "metadata": {},
   "source": [
    "Considering that the total number of observations is 891, **PassengerId**, **Name** and **Ticket** variables are useless for prediction. Thus, we can just drop them:"
   ]
  },
  {
   "cell_type": "code",
   "execution_count": 40,
   "id": "c768e1b5",
   "metadata": {},
   "outputs": [],
   "source": [
    "TrainSet[, PassengerId:= NULL\n",
    "         ][, Name:= NULL\n",
    "           ][, Ticket := NULL]"
   ]
  },
  {
   "cell_type": "markdown",
   "id": "10243bd5",
   "metadata": {},
   "source": [
    "Secondly, we examine missing values:"
   ]
  },
  {
   "cell_type": "code",
   "execution_count": 61,
   "id": "deaa5068",
   "metadata": {
    "scrolled": false
   },
   "outputs": [
    {
     "data": {
      "text/html": [
       "<table class=\"dataframe\">\n",
       "<caption>A data.table: 1 × 9</caption>\n",
       "<thead>\n",
       "\t<tr><th scope=col>Survived</th><th scope=col>Pclass</th><th scope=col>Sex</th><th scope=col>Age</th><th scope=col>SibSp</th><th scope=col>Parch</th><th scope=col>Fare</th><th scope=col>Cabin</th><th scope=col>Embarked</th></tr>\n",
       "\t<tr><th scope=col>&lt;lgl&gt;</th><th scope=col>&lt;lgl&gt;</th><th scope=col>&lt;lgl&gt;</th><th scope=col>&lt;lgl&gt;</th><th scope=col>&lt;lgl&gt;</th><th scope=col>&lt;lgl&gt;</th><th scope=col>&lt;lgl&gt;</th><th scope=col>&lt;lgl&gt;</th><th scope=col>&lt;lgl&gt;</th></tr>\n",
       "</thead>\n",
       "<tbody>\n",
       "\t<tr><td>FALSE</td><td>FALSE</td><td>FALSE</td><td>TRUE</td><td>FALSE</td><td>FALSE</td><td>FALSE</td><td>FALSE</td><td>FALSE</td></tr>\n",
       "</tbody>\n",
       "</table>\n"
      ],
      "text/latex": [
       "A data.table: 1 × 9\n",
       "\\begin{tabular}{lllllllll}\n",
       " Survived & Pclass & Sex & Age & SibSp & Parch & Fare & Cabin & Embarked\\\\\n",
       " <lgl> & <lgl> & <lgl> & <lgl> & <lgl> & <lgl> & <lgl> & <lgl> & <lgl>\\\\\n",
       "\\hline\n",
       "\t FALSE & FALSE & FALSE & TRUE & FALSE & FALSE & FALSE & FALSE & FALSE\\\\\n",
       "\\end{tabular}\n"
      ],
      "text/markdown": [
       "\n",
       "A data.table: 1 × 9\n",
       "\n",
       "| Survived &lt;lgl&gt; | Pclass &lt;lgl&gt; | Sex &lt;lgl&gt; | Age &lt;lgl&gt; | SibSp &lt;lgl&gt; | Parch &lt;lgl&gt; | Fare &lt;lgl&gt; | Cabin &lt;lgl&gt; | Embarked &lt;lgl&gt; |\n",
       "|---|---|---|---|---|---|---|---|---|\n",
       "| FALSE | FALSE | FALSE | TRUE | FALSE | FALSE | FALSE | FALSE | FALSE |\n",
       "\n"
      ],
      "text/plain": [
       "  Survived Pclass Sex   Age  SibSp Parch Fare  Cabin Embarked\n",
       "1 FALSE    FALSE  FALSE TRUE FALSE FALSE FALSE FALSE FALSE   "
      ]
     },
     "metadata": {},
     "output_type": "display_data"
    },
    {
     "data": {
      "text/html": [
       "<table class=\"dataframe\">\n",
       "<caption>A data.table: 2 × 2</caption>\n",
       "<thead>\n",
       "\t<tr><th scope=col>Survived</th><th scope=col>V1</th></tr>\n",
       "\t<tr><th scope=col>&lt;fct&gt;</th><th scope=col>&lt;int&gt;</th></tr>\n",
       "</thead>\n",
       "<tbody>\n",
       "\t<tr><td>0</td><td>125</td></tr>\n",
       "\t<tr><td>1</td><td> 52</td></tr>\n",
       "</tbody>\n",
       "</table>\n"
      ],
      "text/latex": [
       "A data.table: 2 × 2\n",
       "\\begin{tabular}{ll}\n",
       " Survived & V1\\\\\n",
       " <fct> & <int>\\\\\n",
       "\\hline\n",
       "\t 0 & 125\\\\\n",
       "\t 1 &  52\\\\\n",
       "\\end{tabular}\n"
      ],
      "text/markdown": [
       "\n",
       "A data.table: 2 × 2\n",
       "\n",
       "| Survived &lt;fct&gt; | V1 &lt;int&gt; |\n",
       "|---|---|\n",
       "| 0 | 125 |\n",
       "| 1 |  52 |\n",
       "\n"
      ],
      "text/plain": [
       "  Survived V1 \n",
       "1 0        125\n",
       "2 1         52"
      ]
     },
     "metadata": {},
     "output_type": "display_data"
    },
    {
     "data": {
      "image/png": "[encoded data removed]",
      "text/plain": [
       "plot without title"
      ]
     },
     "metadata": {
      "image/png": {
       "height": 420,
       "width": 420
      }
     },
     "output_type": "display_data"
    }
   ],
   "source": [
    "TrainSet[, lapply(.SD, anyNA)]\n",
    "TrainSet[, sum(is.na(Age)), by = Survived]\n",
    "naniar::vis_miss(TrainSet)"
   ]
  },
  {
   "cell_type": "markdown",
   "id": "4fdee58d",
   "metadata": {},
   "source": [
    "As we see **Age** is the only variable that contains missing values. This will be taken into account at Feature engeneering part."
   ]
  },
  {
   "cell_type": "markdown",
   "id": "1d1e8af2",
   "metadata": {},
   "source": [
    "Next, we explore the classes of variables:"
   ]
  },
  {
   "cell_type": "code",
   "execution_count": 42,
   "id": "2287c11b",
   "metadata": {},
   "outputs": [
    {
     "data": {
      "text/html": [
       "<table class=\"dataframe\">\n",
       "<caption>A data.table: 1 × 9</caption>\n",
       "<thead>\n",
       "\t<tr><th scope=col>Survived</th><th scope=col>Pclass</th><th scope=col>Sex</th><th scope=col>Age</th><th scope=col>SibSp</th><th scope=col>Parch</th><th scope=col>Fare</th><th scope=col>Cabin</th><th scope=col>Embarked</th></tr>\n",
       "\t<tr><th scope=col>&lt;chr&gt;</th><th scope=col>&lt;chr&gt;</th><th scope=col>&lt;chr&gt;</th><th scope=col>&lt;chr&gt;</th><th scope=col>&lt;chr&gt;</th><th scope=col>&lt;chr&gt;</th><th scope=col>&lt;chr&gt;</th><th scope=col>&lt;chr&gt;</th><th scope=col>&lt;chr&gt;</th></tr>\n",
       "</thead>\n",
       "<tbody>\n",
       "\t<tr><td>integer</td><td>integer</td><td>character</td><td>numeric</td><td>integer</td><td>integer</td><td>numeric</td><td>character</td><td>character</td></tr>\n",
       "</tbody>\n",
       "</table>\n"
      ],
      "text/latex": [
       "A data.table: 1 × 9\n",
       "\\begin{tabular}{lllllllll}\n",
       " Survived & Pclass & Sex & Age & SibSp & Parch & Fare & Cabin & Embarked\\\\\n",
       " <chr> & <chr> & <chr> & <chr> & <chr> & <chr> & <chr> & <chr> & <chr>\\\\\n",
       "\\hline\n",
       "\t integer & integer & character & numeric & integer & integer & numeric & character & character\\\\\n",
       "\\end{tabular}\n"
      ],
      "text/markdown": [
       "\n",
       "A data.table: 1 × 9\n",
       "\n",
       "| Survived &lt;chr&gt; | Pclass &lt;chr&gt; | Sex &lt;chr&gt; | Age &lt;chr&gt; | SibSp &lt;chr&gt; | Parch &lt;chr&gt; | Fare &lt;chr&gt; | Cabin &lt;chr&gt; | Embarked &lt;chr&gt; |\n",
       "|---|---|---|---|---|---|---|---|---|\n",
       "| integer | integer | character | numeric | integer | integer | numeric | character | character |\n",
       "\n"
      ],
      "text/plain": [
       "  Survived Pclass  Sex       Age     SibSp   Parch   Fare    Cabin    \n",
       "1 integer  integer character numeric integer integer numeric character\n",
       "  Embarked \n",
       "1 character"
      ]
     },
     "metadata": {},
     "output_type": "display_data"
    }
   ],
   "source": [
    "TrainSet[, lapply(.SD, class)]"
   ]
  },
  {
   "cell_type": "markdown",
   "id": "bf31bdfd",
   "metadata": {},
   "source": [
    "And convert all characters to factor to correctly visualize and build models on them:"
   ]
  },
  {
   "cell_type": "code",
   "execution_count": 43,
   "id": "f0189f6b",
   "metadata": {},
   "outputs": [],
   "source": [
    "ColumnsToFactor <- c(\"Survived\", \"Pclass\", \"Sex\", \"SibSp\", \"Parch\", \"Embarked\")\n",
    "TrainSet[, (ColumnsToFactor) := lapply(.SD, as.factor), .SDcols = ColumnsToFactor]"
   ]
  },
  {
   "cell_type": "markdown",
   "id": "a7462495",
   "metadata": {},
   "source": [
    "---"
   ]
  },
  {
   "cell_type": "markdown",
   "id": "4d2dcdcb",
   "metadata": {},
   "source": [
    "### Frequency distributions"
   ]
  },
  {
   "cell_type": "markdown",
   "id": "03f861ea",
   "metadata": {},
   "source": [
    "Before looking at frequency distrivutions, we initialize functions used for plots and summary statistics table creation:"
   ]
  },
  {
   "cell_type": "code",
   "execution_count": 47,
   "id": "6112f96b",
   "metadata": {},
   "outputs": [],
   "source": [
    "CreateFrequencyDistributionPlot <- function(TrainSet, AxisX, TypeAxisX = \"categorical\") {\n",
    "  if (TypeAxisX == \"categorical\") {\n",
    "    ggplot(TrainSet, aes_string(AxisX, fill = AxisX)) +\n",
    "      geom_bar() +\n",
    "      theme_minimal() +\n",
    "      scale_color_brewer(palette = \"Accent\") +\n",
    "      labs(y = \"Number of observations\", title = paste(\"Bar plot of \", AxisX, \" variable\"))    \n",
    "  } else {\n",
    "    ggplot(TrainSet, aes_string(AxisX)) +\n",
    "      geom_histogram(color = \"red\", fill = \"deepskyblue3\") +\n",
    "      theme_minimal() +\n",
    "      labs(y = \"Number of observations\", title = paste(\"Histogram of \", AxisX, \" variable\"))\n",
    "  }\n",
    "}\n",
    "\n",
    "CreateSummaryStatisticsTable <- function(VariableContinuous) {\n",
    "  data.table(Min = min(VariableContinuous, na.rm = TRUE),\n",
    "             Q25 = quantile(VariableContinuous, 0.25, na.rm = TRUE),\n",
    "             Median = median(VariableContinuous, na.rm = TRUE),\n",
    "             Q75 = quantile(VariableContinuous, 0.75, na.rm = TRUE),\n",
    "             Max = max(VariableContinuous, na.rm = TRUE),\n",
    "             Mean = mean(VariableContinuous, na.rm = TRUE),\n",
    "             `Standard Deviation` = sd(VariableContinuous, na.rm = TRUE))\n",
    "}"
   ]
  },
  {
   "cell_type": "markdown",
   "id": "0bc8ebd8",
   "metadata": {},
   "source": [
    "Then we explore all the categorical variables at first:"
   ]
  },
  {
   "cell_type": "code",
   "execution_count": 50,
   "id": "35111858",
   "metadata": {},
   "outputs": [
    {
     "data": {
      "image/png": "[encoded data removed]",
      "text/plain": [
       "plot without title"
      ]
     },
     "metadata": {
      "image/png": {
       "height": 420,
       "width": 420
      }
     },
     "output_type": "display_data"
    }
   ],
   "source": [
    "ggpubr::ggarrange(CreateFrequencyDistributionPlot(TrainSet, \"Survived\"),\n",
    "                  CreateFrequencyDistributionPlot(TrainSet, \"Sex\"),\n",
    "                  CreateFrequencyDistributionPlot(TrainSet, \"Pclass\"),\n",
    "                  CreateFrequencyDistributionPlot(TrainSet, \"Embarked\"),\n",
    "                  CreateFrequencyDistributionPlot(TrainSet, \"SibSp\"),\n",
    "                  CreateFrequencyDistributionPlot(TrainSet, \"Parch\"),\n",
    "                  ncol = 2,\n",
    "                  nrow = 3)"
   ]
  },
  {
   "cell_type": "markdown",
   "id": "7187b58c",
   "metadata": {},
   "source": [
    "As we can see from the plots most of the people:\n",
    "- Died;\n",
    "- Were men;\n",
    "- Bought tickets for the 3rd class cabins;\n",
    "- Embarked in Southampton;\n",
    "- Were alone."
   ]
  },
  {
   "cell_type": "markdown",
   "id": "fb550bf7",
   "metadata": {},
   "source": [
    "Next we take a look at **Age** variable:"
   ]
  },
  {
   "cell_type": "code",
   "execution_count": 51,
   "id": "ed1e2e84",
   "metadata": {},
   "outputs": [
    {
     "data": {
      "text/html": [
       "<table class=\"dataframe\">\n",
       "<caption>A data.table: 1 × 7</caption>\n",
       "<thead>\n",
       "\t<tr><th scope=col>Min</th><th scope=col>Q25</th><th scope=col>Median</th><th scope=col>Q75</th><th scope=col>Max</th><th scope=col>Mean</th><th scope=col>Standard Deviation</th></tr>\n",
       "\t<tr><th scope=col>&lt;dbl&gt;</th><th scope=col>&lt;dbl&gt;</th><th scope=col>&lt;dbl&gt;</th><th scope=col>&lt;dbl&gt;</th><th scope=col>&lt;dbl&gt;</th><th scope=col>&lt;dbl&gt;</th><th scope=col>&lt;dbl&gt;</th></tr>\n",
       "</thead>\n",
       "<tbody>\n",
       "\t<tr><td>0.42</td><td>20.125</td><td>28</td><td>38</td><td>80</td><td>29.69912</td><td>14.5265</td></tr>\n",
       "</tbody>\n",
       "</table>\n"
      ],
      "text/latex": [
       "A data.table: 1 × 7\n",
       "\\begin{tabular}{lllllll}\n",
       " Min & Q25 & Median & Q75 & Max & Mean & Standard Deviation\\\\\n",
       " <dbl> & <dbl> & <dbl> & <dbl> & <dbl> & <dbl> & <dbl>\\\\\n",
       "\\hline\n",
       "\t 0.42 & 20.125 & 28 & 38 & 80 & 29.69912 & 14.5265\\\\\n",
       "\\end{tabular}\n"
      ],
      "text/markdown": [
       "\n",
       "A data.table: 1 × 7\n",
       "\n",
       "| Min &lt;dbl&gt; | Q25 &lt;dbl&gt; | Median &lt;dbl&gt; | Q75 &lt;dbl&gt; | Max &lt;dbl&gt; | Mean &lt;dbl&gt; | Standard Deviation &lt;dbl&gt; |\n",
       "|---|---|---|---|---|---|---|\n",
       "| 0.42 | 20.125 | 28 | 38 | 80 | 29.69912 | 14.5265 |\n",
       "\n"
      ],
      "text/plain": [
       "  Min  Q25    Median Q75 Max Mean     Standard Deviation\n",
       "1 0.42 20.125 28     38  80  29.69912 14.5265           "
      ]
     },
     "metadata": {},
     "output_type": "display_data"
    },
    {
     "name": "stderr",
     "output_type": "stream",
     "text": [
      "`stat_bin()` using `bins = 30`. Pick better value with `binwidth`.\n",
      "\n",
      "Warning message:\n",
      "\"Removed 177 rows containing non-finite values (stat_bin).\"\n"
     ]
    },
    {
     "data": {
      "image/png": "[encoded data removed]",
      "text/plain": [
       "plot without title"
      ]
     },
     "metadata": {
      "image/png": {
       "height": 420,
       "width": 420
      }
     },
     "output_type": "display_data"
    }
   ],
   "source": [
    "CreateSummaryStatisticsTable(TrainSet$Age)\n",
    "CreateFrequencyDistributionPlot(TrainSet, \"Age\", \"continuous\")"
   ]
  },
  {
   "cell_type": "markdown",
   "id": "5dc445ae",
   "metadata": {},
   "source": [
    "The Age is concentrated around the mean of 28-29 years and reminds a normal distribution with a little skewness to the right."
   ]
  },
  {
   "cell_type": "markdown",
   "id": "24247475",
   "metadata": {},
   "source": [
    "Next we will inspect **Fare** variable:"
   ]
  },
  {
   "cell_type": "code",
   "execution_count": 52,
   "id": "447171c8",
   "metadata": {},
   "outputs": [
    {
     "data": {
      "text/html": [
       "<table class=\"dataframe\">\n",
       "<caption>A data.table: 1 × 7</caption>\n",
       "<thead>\n",
       "\t<tr><th scope=col>Min</th><th scope=col>Q25</th><th scope=col>Median</th><th scope=col>Q75</th><th scope=col>Max</th><th scope=col>Mean</th><th scope=col>Standard Deviation</th></tr>\n",
       "\t<tr><th scope=col>&lt;dbl&gt;</th><th scope=col>&lt;dbl&gt;</th><th scope=col>&lt;dbl&gt;</th><th scope=col>&lt;dbl&gt;</th><th scope=col>&lt;dbl&gt;</th><th scope=col>&lt;dbl&gt;</th><th scope=col>&lt;dbl&gt;</th></tr>\n",
       "</thead>\n",
       "<tbody>\n",
       "\t<tr><td>0</td><td>7.9104</td><td>14.4542</td><td>31</td><td>512.3292</td><td>32.20421</td><td>49.69343</td></tr>\n",
       "</tbody>\n",
       "</table>\n"
      ],
      "text/latex": [
       "A data.table: 1 × 7\n",
       "\\begin{tabular}{lllllll}\n",
       " Min & Q25 & Median & Q75 & Max & Mean & Standard Deviation\\\\\n",
       " <dbl> & <dbl> & <dbl> & <dbl> & <dbl> & <dbl> & <dbl>\\\\\n",
       "\\hline\n",
       "\t 0 & 7.9104 & 14.4542 & 31 & 512.3292 & 32.20421 & 49.69343\\\\\n",
       "\\end{tabular}\n"
      ],
      "text/markdown": [
       "\n",
       "A data.table: 1 × 7\n",
       "\n",
       "| Min &lt;dbl&gt; | Q25 &lt;dbl&gt; | Median &lt;dbl&gt; | Q75 &lt;dbl&gt; | Max &lt;dbl&gt; | Mean &lt;dbl&gt; | Standard Deviation &lt;dbl&gt; |\n",
       "|---|---|---|---|---|---|---|\n",
       "| 0 | 7.9104 | 14.4542 | 31 | 512.3292 | 32.20421 | 49.69343 |\n",
       "\n"
      ],
      "text/plain": [
       "  Min Q25    Median  Q75 Max      Mean     Standard Deviation\n",
       "1 0   7.9104 14.4542 31  512.3292 32.20421 49.69343          "
      ]
     },
     "metadata": {},
     "output_type": "display_data"
    },
    {
     "name": "stderr",
     "output_type": "stream",
     "text": [
      "`stat_bin()` using `bins = 30`. Pick better value with `binwidth`.\n",
      "\n"
     ]
    },
    {
     "data": {
      "image/png": "[encoded data removed]",
      "text/plain": [
       "plot without title"
      ]
     },
     "metadata": {
      "image/png": {
       "height": 420,
       "width": 420
      }
     },
     "output_type": "display_data"
    }
   ],
   "source": [
    "CreateSummaryStatisticsTable(TrainSet$Fare)\n",
    "CreateFrequencyDistributionPlot(TrainSet, \"Fare\", \"continuous\")"
   ]
  },
  {
   "cell_type": "markdown",
   "id": "19b0bf7c",
   "metadata": {},
   "source": [
    "The distribution plot is heavily right-skewed which is connected with the **Pclass** variable, as the most of the people bought 3rd class tickets. Log transform of **Fare** can be applied at Feature engeneering part."
   ]
  },
  {
   "cell_type": "markdown",
   "id": "8015e6ae",
   "metadata": {},
   "source": [
    "---"
   ]
  },
  {
   "cell_type": "markdown",
   "id": "41d57150",
   "metadata": {},
   "source": [
    "### Correlations and interdependencies"
   ]
  },
  {
   "cell_type": "markdown",
   "id": "00503f12",
   "metadata": {},
   "source": [
    "The first thing here that need to be studied is how wealth affects the probability of surviving. First of all, there's an obvious connection between **Plcass** and **Fare** which is proved by ANOVA test:"
   ]
  },
  {
   "cell_type": "code",
   "execution_count": 53,
   "id": "bf35e6db",
   "metadata": {},
   "outputs": [
    {
     "data": {
      "text/html": [
       "<table class=\"dataframe\">\n",
       "<caption>A data.table: 3 × 2</caption>\n",
       "<thead>\n",
       "\t<tr><th scope=col>Pclass</th><th scope=col>V1</th></tr>\n",
       "\t<tr><th scope=col>&lt;fct&gt;</th><th scope=col>&lt;dbl&gt;</th></tr>\n",
       "</thead>\n",
       "<tbody>\n",
       "\t<tr><td>3</td><td>13.67555</td></tr>\n",
       "\t<tr><td>1</td><td>84.15469</td></tr>\n",
       "\t<tr><td>2</td><td>20.66218</td></tr>\n",
       "</tbody>\n",
       "</table>\n"
      ],
      "text/latex": [
       "A data.table: 3 × 2\n",
       "\\begin{tabular}{ll}\n",
       " Pclass & V1\\\\\n",
       " <fct> & <dbl>\\\\\n",
       "\\hline\n",
       "\t 3 & 13.67555\\\\\n",
       "\t 1 & 84.15469\\\\\n",
       "\t 2 & 20.66218\\\\\n",
       "\\end{tabular}\n"
      ],
      "text/markdown": [
       "\n",
       "A data.table: 3 × 2\n",
       "\n",
       "| Pclass &lt;fct&gt; | V1 &lt;dbl&gt; |\n",
       "|---|---|\n",
       "| 3 | 13.67555 |\n",
       "| 1 | 84.15469 |\n",
       "| 2 | 20.66218 |\n",
       "\n"
      ],
      "text/plain": [
       "  Pclass V1      \n",
       "1 3      13.67555\n",
       "2 1      84.15469\n",
       "3 2      20.66218"
      ]
     },
     "metadata": {},
     "output_type": "display_data"
    },
    {
     "data": {
      "text/plain": [
       "             Df  Sum Sq Mean Sq F value Pr(>F)    \n",
       "Pclass        2  776030  388015   242.3 <2e-16 ***\n",
       "Residuals   888 1421769    1601                   \n",
       "---\n",
       "Signif. codes:  0 '***' 0.001 '**' 0.01 '*' 0.05 '.' 0.1 ' ' 1"
      ]
     },
     "metadata": {},
     "output_type": "display_data"
    }
   ],
   "source": [
    "TrainSet[, mean(Fare), by = Pclass]\n",
    "summary(aov(Fare ~ Pclass, data = TrainSet))"
   ]
  },
  {
   "cell_type": "markdown",
   "id": "45e05b06",
   "metadata": {},
   "source": [
    "So we could use **Pclass** variable only to see the difference in probability of survival:"
   ]
  },
  {
   "cell_type": "code",
   "execution_count": 54,
   "id": "14473741",
   "metadata": {},
   "outputs": [
    {
     "data": {
      "text/html": [
       "<table class=\"dataframe\">\n",
       "<caption>A data.table: 3 × 2</caption>\n",
       "<thead>\n",
       "\t<tr><th scope=col>Pclass</th><th scope=col>V1</th></tr>\n",
       "\t<tr><th scope=col>&lt;fct&gt;</th><th scope=col>&lt;dbl&gt;</th></tr>\n",
       "</thead>\n",
       "<tbody>\n",
       "\t<tr><td>3</td><td>1.242363</td></tr>\n",
       "\t<tr><td>1</td><td>1.629630</td></tr>\n",
       "\t<tr><td>2</td><td>1.472826</td></tr>\n",
       "</tbody>\n",
       "</table>\n"
      ],
      "text/latex": [
       "A data.table: 3 × 2\n",
       "\\begin{tabular}{ll}\n",
       " Pclass & V1\\\\\n",
       " <fct> & <dbl>\\\\\n",
       "\\hline\n",
       "\t 3 & 1.242363\\\\\n",
       "\t 1 & 1.629630\\\\\n",
       "\t 2 & 1.472826\\\\\n",
       "\\end{tabular}\n"
      ],
      "text/markdown": [
       "\n",
       "A data.table: 3 × 2\n",
       "\n",
       "| Pclass &lt;fct&gt; | V1 &lt;dbl&gt; |\n",
       "|---|---|\n",
       "| 3 | 1.242363 |\n",
       "| 1 | 1.629630 |\n",
       "| 2 | 1.472826 |\n",
       "\n"
      ],
      "text/plain": [
       "  Pclass V1      \n",
       "1 3      1.242363\n",
       "2 1      1.629630\n",
       "3 2      1.472826"
      ]
     },
     "metadata": {},
     "output_type": "display_data"
    }
   ],
   "source": [
    "TrainSet[, mean(as.numeric(Survived)), by = Pclass]"
   ]
  },
  {
   "cell_type": "markdown",
   "id": "37641798",
   "metadata": {},
   "source": [
    "As we see, only 24% of survived were from the 3rd class."
   ]
  },
  {
   "cell_type": "markdown",
   "id": "539c7bf1",
   "metadata": {},
   "source": [
    "Next we have to examine how the departure port influenced the probability of survival:"
   ]
  },
  {
   "cell_type": "code",
   "execution_count": 56,
   "id": "99316a4f",
   "metadata": {},
   "outputs": [
    {
     "data": {
      "text/html": [
       "<table class=\"dataframe\">\n",
       "<caption>A data.table: 4 × 2</caption>\n",
       "<thead>\n",
       "\t<tr><th scope=col>Embarked</th><th scope=col>V1</th></tr>\n",
       "\t<tr><th scope=col>&lt;fct&gt;</th><th scope=col>&lt;dbl&gt;</th></tr>\n",
       "</thead>\n",
       "<tbody>\n",
       "\t<tr><td>S</td><td>0.3369565</td></tr>\n",
       "\t<tr><td>C</td><td>0.5535714</td></tr>\n",
       "\t<tr><td>Q</td><td>0.3896104</td></tr>\n",
       "\t<tr><td> </td><td>1.0000000</td></tr>\n",
       "</tbody>\n",
       "</table>\n"
      ],
      "text/latex": [
       "A data.table: 4 × 2\n",
       "\\begin{tabular}{ll}\n",
       " Embarked & V1\\\\\n",
       " <fct> & <dbl>\\\\\n",
       "\\hline\n",
       "\t S & 0.3369565\\\\\n",
       "\t C & 0.5535714\\\\\n",
       "\t Q & 0.3896104\\\\\n",
       "\t   & 1.0000000\\\\\n",
       "\\end{tabular}\n"
      ],
      "text/markdown": [
       "\n",
       "A data.table: 4 × 2\n",
       "\n",
       "| Embarked &lt;fct&gt; | V1 &lt;dbl&gt; |\n",
       "|---|---|\n",
       "| S | 0.3369565 |\n",
       "| C | 0.5535714 |\n",
       "| Q | 0.3896104 |\n",
       "| <!----> | 1.0000000 |\n",
       "\n"
      ],
      "text/plain": [
       "  Embarked V1       \n",
       "1 S        0.3369565\n",
       "2 C        0.5535714\n",
       "3 Q        0.3896104\n",
       "4          1.0000000"
      ]
     },
     "metadata": {},
     "output_type": "display_data"
    }
   ],
   "source": [
    "TrainSet[, mean(as.numeric(Survived)-1), by = Embarked]"
   ]
  },
  {
   "cell_type": "markdown",
   "id": "98147dbb",
   "metadata": {},
   "source": [
    "The highest survival rate came from  Cherbourg. To understand why we can explore the dependency between average price of ticket and place of departure:"
   ]
  },
  {
   "cell_type": "code",
   "execution_count": 58,
   "id": "dc32dd5d",
   "metadata": {},
   "outputs": [
    {
     "data": {
      "text/html": [
       "<table class=\"dataframe\">\n",
       "<caption>A data.table: 4 × 2</caption>\n",
       "<thead>\n",
       "\t<tr><th scope=col>Embarked</th><th scope=col>V1</th></tr>\n",
       "\t<tr><th scope=col>&lt;fct&gt;</th><th scope=col>&lt;dbl&gt;</th></tr>\n",
       "</thead>\n",
       "<tbody>\n",
       "\t<tr><td>S</td><td>27.07981</td></tr>\n",
       "\t<tr><td>C</td><td>59.95414</td></tr>\n",
       "\t<tr><td>Q</td><td>13.27603</td></tr>\n",
       "\t<tr><td> </td><td>80.00000</td></tr>\n",
       "</tbody>\n",
       "</table>\n"
      ],
      "text/latex": [
       "A data.table: 4 × 2\n",
       "\\begin{tabular}{ll}\n",
       " Embarked & V1\\\\\n",
       " <fct> & <dbl>\\\\\n",
       "\\hline\n",
       "\t S & 27.07981\\\\\n",
       "\t C & 59.95414\\\\\n",
       "\t Q & 13.27603\\\\\n",
       "\t   & 80.00000\\\\\n",
       "\\end{tabular}\n"
      ],
      "text/markdown": [
       "\n",
       "A data.table: 4 × 2\n",
       "\n",
       "| Embarked &lt;fct&gt; | V1 &lt;dbl&gt; |\n",
       "|---|---|\n",
       "| S | 27.07981 |\n",
       "| C | 59.95414 |\n",
       "| Q | 13.27603 |\n",
       "| <!----> | 80.00000 |\n",
       "\n"
      ],
      "text/plain": [
       "  Embarked V1      \n",
       "1 S        27.07981\n",
       "2 C        59.95414\n",
       "3 Q        13.27603\n",
       "4          80.00000"
      ]
     },
     "metadata": {},
     "output_type": "display_data"
    }
   ],
   "source": [
    "TrainSet[, mean(Fare), by = Embarked]"
   ]
  },
  {
   "cell_type": "markdown",
   "id": "e553d641",
   "metadata": {},
   "source": [
    "As we can see, the most costly tickets were from Cherbourg."
   ]
  },
  {
   "cell_type": "markdown",
   "id": "486df63d",
   "metadata": {},
   "source": [
    "The next thing we'd like to explore is the influence of Age."
   ]
  },
  {
   "cell_type": "code",
   "execution_count": 59,
   "id": "08c81289",
   "metadata": {},
   "outputs": [
    {
     "data": {
      "text/html": [
       "<table class=\"dataframe\">\n",
       "<caption>A data.table: 2 × 2</caption>\n",
       "<thead>\n",
       "\t<tr><th scope=col>Survived</th><th scope=col>V1</th></tr>\n",
       "\t<tr><th scope=col>&lt;fct&gt;</th><th scope=col>&lt;dbl&gt;</th></tr>\n",
       "</thead>\n",
       "<tbody>\n",
       "\t<tr><td>0</td><td>30.62618</td></tr>\n",
       "\t<tr><td>1</td><td>28.34369</td></tr>\n",
       "</tbody>\n",
       "</table>\n"
      ],
      "text/latex": [
       "A data.table: 2 × 2\n",
       "\\begin{tabular}{ll}\n",
       " Survived & V1\\\\\n",
       " <fct> & <dbl>\\\\\n",
       "\\hline\n",
       "\t 0 & 30.62618\\\\\n",
       "\t 1 & 28.34369\\\\\n",
       "\\end{tabular}\n"
      ],
      "text/markdown": [
       "\n",
       "A data.table: 2 × 2\n",
       "\n",
       "| Survived &lt;fct&gt; | V1 &lt;dbl&gt; |\n",
       "|---|---|\n",
       "| 0 | 30.62618 |\n",
       "| 1 | 28.34369 |\n",
       "\n"
      ],
      "text/plain": [
       "  Survived V1      \n",
       "1 0        30.62618\n",
       "2 1        28.34369"
      ]
     },
     "metadata": {},
     "output_type": "display_data"
    }
   ],
   "source": [
    "TrainSet[, mean(Age, na.rm = TRUE), by = Survived]"
   ]
  },
  {
   "cell_type": "markdown",
   "id": "0325549d",
   "metadata": {},
   "source": [
    "However, it happened to be that age did not influenced the probability of survival a lot."
   ]
  },
  {
   "cell_type": "markdown",
   "id": "6275c784",
   "metadata": {},
   "source": [
    "There's also an interesting influence of whether you were on Titanic alone:"
   ]
  },
  {
   "cell_type": "code",
   "execution_count": 63,
   "id": "0bedbc67",
   "metadata": {},
   "outputs": [
    {
     "data": {
      "text/html": [
       "<table class=\"dataframe\">\n",
       "<caption>A data.table: 7 × 2</caption>\n",
       "<thead>\n",
       "\t<tr><th scope=col>SibSp</th><th scope=col>V1</th></tr>\n",
       "\t<tr><th scope=col>&lt;fct&gt;</th><th scope=col>&lt;dbl&gt;</th></tr>\n",
       "</thead>\n",
       "<tbody>\n",
       "\t<tr><td>1</td><td>0.5358852</td></tr>\n",
       "\t<tr><td>0</td><td>0.3453947</td></tr>\n",
       "\t<tr><td>3</td><td>0.2500000</td></tr>\n",
       "\t<tr><td>4</td><td>0.1666667</td></tr>\n",
       "\t<tr><td>2</td><td>0.4642857</td></tr>\n",
       "\t<tr><td>5</td><td>0.0000000</td></tr>\n",
       "\t<tr><td>8</td><td>0.0000000</td></tr>\n",
       "</tbody>\n",
       "</table>\n"
      ],
      "text/latex": [
       "A data.table: 7 × 2\n",
       "\\begin{tabular}{ll}\n",
       " SibSp & V1\\\\\n",
       " <fct> & <dbl>\\\\\n",
       "\\hline\n",
       "\t 1 & 0.5358852\\\\\n",
       "\t 0 & 0.3453947\\\\\n",
       "\t 3 & 0.2500000\\\\\n",
       "\t 4 & 0.1666667\\\\\n",
       "\t 2 & 0.4642857\\\\\n",
       "\t 5 & 0.0000000\\\\\n",
       "\t 8 & 0.0000000\\\\\n",
       "\\end{tabular}\n"
      ],
      "text/markdown": [
       "\n",
       "A data.table: 7 × 2\n",
       "\n",
       "| SibSp &lt;fct&gt; | V1 &lt;dbl&gt; |\n",
       "|---|---|\n",
       "| 1 | 0.5358852 |\n",
       "| 0 | 0.3453947 |\n",
       "| 3 | 0.2500000 |\n",
       "| 4 | 0.1666667 |\n",
       "| 2 | 0.4642857 |\n",
       "| 5 | 0.0000000 |\n",
       "| 8 | 0.0000000 |\n",
       "\n"
      ],
      "text/plain": [
       "  SibSp V1       \n",
       "1 1     0.5358852\n",
       "2 0     0.3453947\n",
       "3 3     0.2500000\n",
       "4 4     0.1666667\n",
       "5 2     0.4642857\n",
       "6 5     0.0000000\n",
       "7 8     0.0000000"
      ]
     },
     "metadata": {},
     "output_type": "display_data"
    },
    {
     "data": {
      "text/html": [
       "<table class=\"dataframe\">\n",
       "<caption>A data.table: 7 × 2</caption>\n",
       "<thead>\n",
       "\t<tr><th scope=col>Parch</th><th scope=col>V1</th></tr>\n",
       "\t<tr><th scope=col>&lt;fct&gt;</th><th scope=col>&lt;dbl&gt;</th></tr>\n",
       "</thead>\n",
       "<tbody>\n",
       "\t<tr><td>0</td><td>0.3436578</td></tr>\n",
       "\t<tr><td>1</td><td>0.5508475</td></tr>\n",
       "\t<tr><td>2</td><td>0.5000000</td></tr>\n",
       "\t<tr><td>5</td><td>0.2000000</td></tr>\n",
       "\t<tr><td>3</td><td>0.6000000</td></tr>\n",
       "\t<tr><td>4</td><td>0.0000000</td></tr>\n",
       "\t<tr><td>6</td><td>0.0000000</td></tr>\n",
       "</tbody>\n",
       "</table>\n"
      ],
      "text/latex": [
       "A data.table: 7 × 2\n",
       "\\begin{tabular}{ll}\n",
       " Parch & V1\\\\\n",
       " <fct> & <dbl>\\\\\n",
       "\\hline\n",
       "\t 0 & 0.3436578\\\\\n",
       "\t 1 & 0.5508475\\\\\n",
       "\t 2 & 0.5000000\\\\\n",
       "\t 5 & 0.2000000\\\\\n",
       "\t 3 & 0.6000000\\\\\n",
       "\t 4 & 0.0000000\\\\\n",
       "\t 6 & 0.0000000\\\\\n",
       "\\end{tabular}\n"
      ],
      "text/markdown": [
       "\n",
       "A data.table: 7 × 2\n",
       "\n",
       "| Parch &lt;fct&gt; | V1 &lt;dbl&gt; |\n",
       "|---|---|\n",
       "| 0 | 0.3436578 |\n",
       "| 1 | 0.5508475 |\n",
       "| 2 | 0.5000000 |\n",
       "| 5 | 0.2000000 |\n",
       "| 3 | 0.6000000 |\n",
       "| 4 | 0.0000000 |\n",
       "| 6 | 0.0000000 |\n",
       "\n"
      ],
      "text/plain": [
       "  Parch V1       \n",
       "1 0     0.3436578\n",
       "2 1     0.5508475\n",
       "3 2     0.5000000\n",
       "4 5     0.2000000\n",
       "5 3     0.6000000\n",
       "6 4     0.0000000\n",
       "7 6     0.0000000"
      ]
     },
     "metadata": {},
     "output_type": "display_data"
    }
   ],
   "source": [
    "TrainSet[, mean(as.numeric(Survived)-1), by = SibSp]\n",
    "TrainSet[, mean(as.numeric(Survived)-1), by = Parch]"
   ]
  },
  {
   "cell_type": "markdown",
   "id": "b38fa76c",
   "metadata": {},
   "source": [
    "Those persons being with max 1-2 spouces were more willing to survive. Morover, the probability of survival for children with 2 parents or adults with 2 children were aslo much higher (did not taking into account sex)."
   ]
  },
  {
   "cell_type": "markdown",
   "id": "5116f892",
   "metadata": {},
   "source": [
    "And the last variable to examine is sex:"
   ]
  },
  {
   "cell_type": "code",
   "execution_count": 62,
   "id": "4328d76d",
   "metadata": {
    "scrolled": true
   },
   "outputs": [
    {
     "data": {
      "text/html": [
       "<table class=\"dataframe\">\n",
       "<caption>A data.table: 2 × 2</caption>\n",
       "<thead>\n",
       "\t<tr><th scope=col>Sex</th><th scope=col>V1</th></tr>\n",
       "\t<tr><th scope=col>&lt;fct&gt;</th><th scope=col>&lt;dbl&gt;</th></tr>\n",
       "</thead>\n",
       "<tbody>\n",
       "\t<tr><td>male  </td><td>0.1889081</td></tr>\n",
       "\t<tr><td>female</td><td>0.7420382</td></tr>\n",
       "</tbody>\n",
       "</table>\n"
      ],
      "text/latex": [
       "A data.table: 2 × 2\n",
       "\\begin{tabular}{ll}\n",
       " Sex & V1\\\\\n",
       " <fct> & <dbl>\\\\\n",
       "\\hline\n",
       "\t male   & 0.1889081\\\\\n",
       "\t female & 0.7420382\\\\\n",
       "\\end{tabular}\n"
      ],
      "text/markdown": [
       "\n",
       "A data.table: 2 × 2\n",
       "\n",
       "| Sex &lt;fct&gt; | V1 &lt;dbl&gt; |\n",
       "|---|---|\n",
       "| male   | 0.1889081 |\n",
       "| female | 0.7420382 |\n",
       "\n"
      ],
      "text/plain": [
       "  Sex    V1       \n",
       "1 male   0.1889081\n",
       "2 female 0.7420382"
      ]
     },
     "metadata": {},
     "output_type": "display_data"
    }
   ],
   "source": [
    "TrainSet[, mean(as.numeric(Survived)-1), by = Sex]"
   ]
  },
  {
   "cell_type": "markdown",
   "id": "2f6fa98f",
   "metadata": {},
   "source": [
    "Most of the survived persons were women, as there were no boats for men (gentlemen to be correct, as women came out first)."
   ]
  },
  {
   "cell_type": "markdown",
   "id": "b587cb3d",
   "metadata": {},
   "source": [
    "To sum up, to survive you'd better be a rich young woman with a spouse."
   ]
  },
  {
   "cell_type": "markdown",
   "id": "7b4e4cf8",
   "metadata": {},
   "source": [
    "## Feature engeneering"
   ]
  },
  {
   "cell_type": "markdown",
   "id": "ece30086",
   "metadata": {},
   "source": [
    "---"
   ]
  },
  {
   "cell_type": "markdown",
   "id": "40f8d682",
   "metadata": {},
   "source": [
    "## Modelling"
   ]
  },
  {
   "cell_type": "markdown",
   "id": "aa1e24e7",
   "metadata": {},
   "source": [
    "---"
   ]
  },
  {
   "cell_type": "markdown",
   "id": "ab72ce30",
   "metadata": {},
   "source": [
    "## Model validation"
   ]
  },
  {
   "cell_type": "markdown",
   "id": "61a22c1f",
   "metadata": {},
   "source": [
    "---"
   ]
  },
  {
   "cell_type": "markdown",
   "id": "874aaa0e",
   "metadata": {},
   "source": [
    "## Model improvement"
   ]
  },
  {
   "cell_type": "markdown",
   "id": "a7b680df",
   "metadata": {},
   "source": [
    "---"
   ]
  }
 ],
 "metadata": {
  "kernelspec": {
   "display_name": "R",
   "language": "R",
   "name": "ir"
  },
  "language_info": {
   "codemirror_mode": "r",
   "file_extension": ".r",
   "mimetype": "text/x-r-source",
   "name": "R",
   "pygments_lexer": "r",
   "version": "4.0.4"
  }
 },
 "nbformat": 4,
 "nbformat_minor": 5
}
